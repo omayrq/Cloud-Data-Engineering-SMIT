{
 "cells": [
  {
   "cell_type": "markdown",
   "id": "83f7d112-affd-4524-9f8a-911cc1adad65",
   "metadata": {},
   "source": [
    "1. Write a program that accepts a string from user. Your program should count and display number of\n",
    "vowels in that string. \n"
   ]
  },
  {
   "cell_type": "code",
   "execution_count": 15,
   "id": "b724719b-9964-4178-8ab1-b26d8fcf8a46",
   "metadata": {},
   "outputs": [
    {
     "name": "stdin",
     "output_type": "stream",
     "text": [
      "Please enter string to count vowels in it ? aaaaaaaaaaaaaaaaaaaaaaa\n"
     ]
    },
    {
     "name": "stdout",
     "output_type": "stream",
     "text": [
      "You have 23 vowels in entred string\n"
     ]
    }
   ],
   "source": [
    "string = str(input('Please enter string to count vowels in it ?'))\n",
    "vowels = {'a', 'e', 'i', 'o', 'u', 'A', 'E', 'I', 'O', 'U'}\n",
    "count = sum(1 for i in string if i in vowels)\n",
    "print(f'You have {count} vowels in entred string') "
   ]
  },
  {
   "cell_type": "markdown",
   "id": "27cbccee-97c2-4a45-8976-8ad9bf2e7684",
   "metadata": {},
   "source": [
    "2. Write a program that reads a string from keyboard and display:\n",
    "* The number of uppercase letters in the string\n",
    "* The number of lowercase letters in the string\n",
    "* The number of digits in the string\n",
    "* The number of whitespace characters in the string\n",
    "  "
   ]
  },
  {
   "cell_type": "code",
   "execution_count": 23,
   "id": "71b8ea84-06d3-484e-a8d0-3cd7a517b900",
   "metadata": {},
   "outputs": [
    {
     "name": "stdin",
     "output_type": "stream",
     "text": [
      "Enter string Umair Ashraf1234 234 OOO\n"
     ]
    },
    {
     "name": "stdout",
     "output_type": "stream",
     "text": [
      "5 Uppercase in Letter,\n",
      "9 Lowercase Letter,\n",
      "7 Digits in Letter,\n",
      "3 Whitespace in Letter\n"
     ]
    }
   ],
   "source": [
    "word = str(input(\"Enter string\"))\n",
    "upper = 0\n",
    "lower = 0\n",
    "digit = 0\n",
    "whitespace = 0\n",
    "\n",
    "for i in word:\n",
    "    if i.isupper():\n",
    "        upper += 1\n",
    "    elif i.islower():\n",
    "        lower += 1\n",
    "    elif i.isdigit():\n",
    "        digit += 1\n",
    "    elif i.isspace():\n",
    "        whitespace += 1\n",
    "print(f\"{upper} Uppercase in Letter,\\n{lower} Lowercase Letter,\\n{digit} Digits in Letter,\\n{whitespace} Whitespace in Letter\")\n",
    "            "
   ]
  },
  {
   "cell_type": "markdown",
   "id": "46ab23b6-4ee9-4fef-8e5e-46444baab3a8",
   "metadata": {},
   "source": [
    "3. Write a Python program that accepts a string from user. Your program should create and display a\n",
    "new string where the first and last characters have been exchanged. \n",
    "For example if the user enters the string 'HELLO' then new string would be 'OELLH'"
   ]
  },
  {
   "cell_type": "code",
   "execution_count": 6,
   "id": "d6e9fce7-636a-40da-8f74-9b902789dc48",
   "metadata": {},
   "outputs": [
    {
     "name": "stdin",
     "output_type": "stream",
     "text": [
      "Please enter string HEllo\n"
     ]
    },
    {
     "name": "stdout",
     "output_type": "stream",
     "text": [
      "oEllH\n"
     ]
    }
   ],
   "source": [
    "input_str = str(input('Please enter string'))\n",
    "if len(input_str) > 1:\n",
    "    new = input_str[-1] + input_str[1:-1] + input_str[0]\n",
    "else:\n",
    "    new = input_str\n",
    "print(new)"
   ]
  },
  {
   "cell_type": "markdown",
   "id": "1d8ea42f-7501-4295-b474-21a701924dc9",
   "metadata": {},
   "source": [
    "4. Write a Python program that accepts a string from user. Your program should create a new string in\n",
    "reverse of first string and display it.\n",
    "For example if the user enters the string 'EXAM' then new string would be 'MAXE'"
   ]
  },
  {
   "cell_type": "code",
   "execution_count": 2,
   "id": "6d97d333-eb55-4103-8f1d-740b22538627",
   "metadata": {},
   "outputs": [
    {
     "name": "stdin",
     "output_type": "stream",
     "text": [
      "Enter any word umair\n"
     ]
    },
    {
     "name": "stdout",
     "output_type": "stream",
     "text": [
      "riamu\n"
     ]
    }
   ],
   "source": [
    "acc_str = str(input('Enter any word'))\n",
    "rev = acc_str[::-1]\n",
    "print(rev)"
   ]
  },
  {
   "cell_type": "markdown",
   "id": "666ba5c5-8ae5-41d1-ac61-5c12b93233a1",
   "metadata": {},
   "source": [
    "5. Write a Python program that accepts a string from user. Your program should create a new string by\n",
    "shifting one position to left.\n",
    "For example if the user enters the string 'examination 2021' then new string would be 'xamination\n",
    "2021e' \n",
    "\n"
   ]
  },
  {
   "cell_type": "code",
   "execution_count": 15,
   "id": "e8d7b408-91b5-4732-b7f2-5593c03d6c03",
   "metadata": {},
   "outputs": [
    {
     "name": "stdin",
     "output_type": "stream",
     "text": [
      "Please enter string examination 2021\n"
     ]
    },
    {
     "name": "stdout",
     "output_type": "stream",
     "text": [
      "xamination 2021e\n"
     ]
    }
   ],
   "source": [
    "input_str = str(input('Please enter string'))\n",
    "if len(input_str) > 1:\n",
    "    new = input_str[1:] + input_str[0]\n",
    "else:\n",
    "    new = input_str\n",
    "print(new)"
   ]
  },
  {
   "cell_type": "markdown",
   "id": "beeb0822-8b33-4f25-a324-18bbfc8d070d",
   "metadata": {},
   "source": [
    " 6. Write a program that asks the user to input his name and print its initials. Assuming that the user\n",
    "always types first name, middle name and last name and does not include any unnecessary spaces.\n",
    "For example, if the user enters Ajay Kumar Garg the program should display A. K. G.\n",
    "Note:Don't use split() method "
   ]
  },
  {
   "cell_type": "code",
   "execution_count": 12,
   "id": "438a7b74-a0b2-43e9-98f7-6382639f9869",
   "metadata": {},
   "outputs": [
    {
     "name": "stdin",
     "output_type": "stream",
     "text": [
      "Please enter first name, middle name and last name Muhammad Umair Ashraf\n"
     ]
    },
    {
     "name": "stdout",
     "output_type": "stream",
     "text": [
      "M. U. A.\n"
     ]
    }
   ],
   "source": [
    "name = str(input('Please enter first name, middle name and last name'))\n",
    "a = \"\"\n",
    "a += name[0].upper() + '. '\n",
    "for i in range(len(name)):\n",
    "    if name[i] == \" \":\n",
    "        a += name[i+1].upper() + '. '\n",
    "print(a.strip())"
   ]
  },
  {
   "cell_type": "markdown",
   "id": "084b1fae-c709-4551-b39d-9f53326ec9a2",
   "metadata": {},
   "source": [
    "7. A palindrome is a string that reads the same backward as forward. For example, the words dad,\n",
    "madam and radar are all palindromes. Write a programs that determines whether the string is a\n",
    "palindrome.\n",
    "Note: do not use reverse() method"
   ]
  },
  {
   "cell_type": "code",
   "execution_count": 16,
   "id": "e17653c2-49c1-453c-aa98-458c87b34750",
   "metadata": {},
   "outputs": [
    {
     "name": "stdin",
     "output_type": "stream",
     "text": [
      "enter a string to confirm it is palindrome or not are\n"
     ]
    },
    {
     "name": "stdout",
     "output_type": "stream",
     "text": [
      "are, you entered the string is not palindrome\n"
     ]
    }
   ],
   "source": [
    "str_pal = str(input('enter a string to confirm it is palindrome or not'))\n",
    "if str_pal == str_pal[::-1]:\n",
    "    print(f'{str_pal}, your entered the string is palindrome')\n",
    "else:\n",
    "    print(f'{str_pal}, your entered the string is not palindrome')"
   ]
  },
  {
   "cell_type": "markdown",
   "id": "63121f31-548f-4066-a365-75787eeef2c5",
   "metadata": {},
   "source": [
    "8. Write a program that display following output:\n",
    "SHIFT\n",
    "HIFTS\n",
    "IFTSH\n",
    "FTSHI\n",
    "TSHIF\n",
    "SHIFT "
   ]
  },
  {
   "cell_type": "code",
   "execution_count": 10,
   "id": "9e1b98e0-11a9-428b-a89e-b853aa8fd9c2",
   "metadata": {},
   "outputs": [
    {
     "name": "stdout",
     "output_type": "stream",
     "text": [
      "SHIFT \n",
      "HIFTS \n",
      "IFTSH \n",
      "FTSHI \n",
      "TSHIF \n",
      "SHIFT \n"
     ]
    }
   ],
   "source": [
    "words = 'SHIFT'\n",
    "print(words, end = \" \\n\")\n",
    "for i in range(len(words)):\n",
    "    words = words[1:] + words[0]\n",
    "    print(words, end = \" \\n\")"
   ]
  },
  {
   "cell_type": "markdown",
   "id": "57f299eb-0cf0-47e1-a4f6-837057b08a70",
   "metadata": {},
   "source": [
    "9. Write a program in python that accepts a string to setup a passwords. Your entered password must\n",
    "meet the following requirements:\n",
    "The password must be at least eight characters long.\n",
    "It must contain at least one uppercase letter.\n",
    "It must contain at least one lowercase letter.\n",
    "It must contain at least one numeric digit.\n",
    "Your program should should perform this validation. "
   ]
  },
  {
   "cell_type": "code",
   "execution_count": 37,
   "id": "7c7b570d-ca8b-4399-b860-86c48765473d",
   "metadata": {},
   "outputs": [
    {
     "name": "stdin",
     "output_type": "stream",
     "text": [
      "Enter password for checking Umair1234567\n"
     ]
    },
    {
     "name": "stdout",
     "output_type": "stream",
     "text": [
      "Enterd password is good enough\n"
     ]
    }
   ],
   "source": [
    "password = input('Enter password for checking')\n",
    "def checker(password):\n",
    "    if len(password) < 8:\n",
    "        print('Entered password must have atleast eigth characters')\n",
    "        return\n",
    "\n",
    "    is_upper = False\n",
    "    is_lower = False\n",
    "    is_numeric = False\n",
    "\n",
    "    for char in password:\n",
    "        if char.isupper():\n",
    "            is_upper = True\n",
    "        if char.islower():\n",
    "            is_lower = True\n",
    "        if char.isdigit():\n",
    "            is_numeric = True\n",
    "        \n",
    "    if is_upper and is_lower and is_numeric:\n",
    "        print('Enterd password is good enough')\n",
    "    else:\n",
    "        print('Enterd password must have atleast one uppercase, lowercase and digit character')\n",
    "checker(password)"
   ]
  },
  {
   "cell_type": "code",
   "execution_count": null,
   "id": "06fbb392-539e-4e3c-90e0-9002d072a1d1",
   "metadata": {},
   "outputs": [],
   "source": []
  }
 ],
 "metadata": {
  "kernelspec": {
   "display_name": "Python 3 (ipykernel)",
   "language": "python",
   "name": "python3"
  },
  "language_info": {
   "codemirror_mode": {
    "name": "ipython",
    "version": 3
   },
   "file_extension": ".py",
   "mimetype": "text/x-python",
   "name": "python",
   "nbconvert_exporter": "python",
   "pygments_lexer": "ipython3",
   "version": "3.13.5"
  }
 },
 "nbformat": 4,
 "nbformat_minor": 5
}
