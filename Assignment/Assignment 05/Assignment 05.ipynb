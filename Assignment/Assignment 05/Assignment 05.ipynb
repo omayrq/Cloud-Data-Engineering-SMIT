{
 "cells": [
  {
   "cell_type": "markdown",
   "id": "c85cd9cd-5bce-475c-8622-f6c2140a2372",
   "metadata": {},
   "source": [
    "### Looping Structures "
   ]
  },
  {
   "cell_type": "markdown",
   "id": "11bb58f7-ba60-4934-a1bf-1af3a4716005",
   "metadata": {},
   "source": [
    " Write a Python program to print the numbers from 1 to 10 using a for loop. "
   ]
  },
  {
   "cell_type": "code",
   "execution_count": 1,
   "id": "cc205035-af54-49c9-aa59-a8c9eebcde2a",
   "metadata": {},
   "outputs": [
    {
     "name": "stdout",
     "output_type": "stream",
     "text": [
      "1\n",
      "2\n",
      "3\n",
      "4\n",
      "5\n",
      "6\n",
      "7\n",
      "8\n",
      "9\n",
      "10\n"
     ]
    }
   ],
   "source": [
    "for num in range(1, 11):\n",
    "    print(num) "
   ]
  },
  {
   "cell_type": "markdown",
   "id": "a2595095-cc56-4421-bddd-44d8d78ab789",
   "metadata": {},
   "source": [
    " Write a Python program to print the numbers from 20 to 1 using a while loop."
   ]
  },
  {
   "cell_type": "code",
   "execution_count": 2,
   "id": "4dd94892-e766-40b2-8fd8-a15730bbaace",
   "metadata": {},
   "outputs": [
    {
     "name": "stdout",
     "output_type": "stream",
     "text": [
      "20\n",
      "19\n",
      "18\n",
      "17\n",
      "16\n",
      "15\n",
      "14\n",
      "13\n",
      "12\n",
      "11\n",
      "10\n",
      "9\n",
      "8\n",
      "7\n",
      "6\n",
      "5\n",
      "4\n",
      "3\n",
      "2\n",
      "1\n"
     ]
    }
   ],
   "source": [
    "n = 21\n",
    "while n > 1:\n",
    "    n -= 1\n",
    "    print(n)"
   ]
  },
  {
   "cell_type": "markdown",
   "id": "8e302f9e-04d6-44bc-97c7-0a27c08cade7",
   "metadata": {},
   "source": [
    " Write a program to print even numbers from 1 to 10. "
   ]
  },
  {
   "cell_type": "code",
   "execution_count": 4,
   "id": "3e0ca10b-b7ec-45bb-bb6f-d9629675e30f",
   "metadata": {},
   "outputs": [
    {
     "name": "stdout",
     "output_type": "stream",
     "text": [
      "2\n",
      "4\n",
      "6\n",
      "8\n",
      "10\n"
     ]
    }
   ],
   "source": [
    "for i in range(1, 11):\n",
    "    if i%2 == 0:\n",
    "      print(i)  "
   ]
  },
  {
   "cell_type": "markdown",
   "id": "9f56cc17-5477-4e94-8fe4-422375d59e16",
   "metadata": {},
   "source": [
    " Write a program that prompts the user to enter a number n and prints all the\n",
    "numbers from 1 to n. "
   ]
  },
  {
   "cell_type": "code",
   "execution_count": 6,
   "id": "c10ddbce-949a-4783-ba99-77914810ee72",
   "metadata": {},
   "outputs": [
    {
     "name": "stdin",
     "output_type": "stream",
     "text": [
      "Enter number of n 4\n"
     ]
    },
    {
     "name": "stdout",
     "output_type": "stream",
     "text": [
      "1\n",
      "2\n",
      "3\n",
      "4\n"
     ]
    }
   ],
   "source": [
    "n = int(input(\"Enter number of n\"))\n",
    "for i in range(1, n+1):\n",
    "    print(i)"
   ]
  },
  {
   "cell_type": "markdown",
   "id": "d50a7173-5587-42b2-ac78-d8393170ed95",
   "metadata": {},
   "source": [
    " Write a program that prompts the user to enter a number n, and then prints all the\n",
    "odd numbers between 1 and n."
   ]
  },
  {
   "cell_type": "code",
   "execution_count": 9,
   "id": "28a9bf84-276c-4abf-b681-56d7e1941313",
   "metadata": {},
   "outputs": [
    {
     "name": "stdin",
     "output_type": "stream",
     "text": [
      "Enter number of n 10\n"
     ]
    },
    {
     "name": "stdout",
     "output_type": "stream",
     "text": [
      "1\n",
      "3\n",
      "5\n",
      "7\n",
      "9\n"
     ]
    }
   ],
   "source": [
    "n = int(input(\"Enter number of n\"))\n",
    "for i in range(1, n+1):\n",
    "    if i%2 == 1:\n",
    "        print(i)"
   ]
  },
  {
   "cell_type": "markdown",
   "id": "83934c39-7814-404e-adae-2400ef8e40dc",
   "metadata": {},
   "source": [
    " Write a program that prints 'Happy Birthday!' five times on screen"
   ]
  },
  {
   "cell_type": "code",
   "execution_count": 15,
   "id": "8d54f8ff-9aeb-4ed3-978b-b0ecf5d6097b",
   "metadata": {},
   "outputs": [
    {
     "name": "stdout",
     "output_type": "stream",
     "text": [
      "Happy Birthday!\n",
      "Happy Birthday!\n",
      "Happy Birthday!\n",
      "Happy Birthday!\n",
      "Happy Birthday!\n",
      "Happy Birthday!\n"
     ]
    }
   ],
   "source": [
    "b_day = 'Happy Birthday!'\n",
    "b_day_lst = []\n",
    "count = 0\n",
    "while count < 6:\n",
    "    b_day_lst.append(b_day)\n",
    "    count += 1\n",
    "for i in b_day_lst:\n",
    "    print(i)"
   ]
  },
  {
   "cell_type": "code",
   "execution_count": 17,
   "id": "7ac98699-02ab-4639-959f-50f0dc91ecd5",
   "metadata": {},
   "outputs": [
    {
     "name": "stdout",
     "output_type": "stream",
     "text": [
      "Happy Birthday!\n",
      "Happy Birthday!\n",
      "Happy Birthday!\n",
      "Happy Birthday!\n",
      "Happy Birthday!\n"
     ]
    }
   ],
   "source": [
    "for _ in range(5):\n",
    "    print('Happy Birthday!')"
   ]
  },
  {
   "cell_type": "markdown",
   "id": "d6e473e3-47d0-4583-b0b3-7b2e041d761d",
   "metadata": {},
   "source": [
    " Write a program that takes a number n as input from the user and generates the first\n",
    "n terms of the series formed by squaring the natural numbers.\n",
    "Sample output\n",
    "Enter a number: 6\n",
    "The first 6 terms of the series are:\n",
    "1 4 9 16 25 36 "
   ]
  },
  {
   "cell_type": "code",
   "execution_count": 18,
   "id": "0d9594a6-acd5-4236-a8bb-e88bc6c9c23c",
   "metadata": {},
   "outputs": [
    {
     "name": "stdin",
     "output_type": "stream",
     "text": [
      "Input number n 6\n"
     ]
    },
    {
     "name": "stdout",
     "output_type": "stream",
     "text": [
      "1\n",
      "4\n",
      "9\n",
      "16\n",
      "25\n",
      "36\n"
     ]
    }
   ],
   "source": [
    "n = int(input(\"Input number n\"))\n",
    "for i in range(1, n+1):\n",
    "    print(i**2)"
   ]
  },
  {
   "cell_type": "markdown",
   "id": "39b791df-fe9e-474f-a323-7eaace0ccd71",
   "metadata": {},
   "source": [
    " Write a program that prompts the user to input a number and prints its multiplication\n",
    "table. \n"
   ]
  },
  {
   "cell_type": "code",
   "execution_count": 20,
   "id": "4b6ed183-f318-4db9-b5ce-cb082a64d99f",
   "metadata": {},
   "outputs": [
    {
     "name": "stdin",
     "output_type": "stream",
     "text": [
      "Table number 4\n"
     ]
    },
    {
     "name": "stdout",
     "output_type": "stream",
     "text": [
      "4 x 1 = 4\n",
      "4 x 2 = 8\n",
      "4 x 3 = 12\n",
      "4 x 4 = 16\n",
      "4 x 5 = 20\n",
      "4 x 6 = 24\n",
      "4 x 7 = 28\n",
      "4 x 8 = 32\n",
      "4 x 9 = 36\n",
      "4 x 10 = 40\n"
     ]
    }
   ],
   "source": [
    "n = int(input('Table number'))\n",
    "for i in range(1, 11):\n",
    "    print(f'{n} x {i} = {n*i}')"
   ]
  },
  {
   "cell_type": "markdown",
   "id": "aee5882b-ed4b-4ce7-bbb6-01c857c27275",
   "metadata": {},
   "source": [
    " Write a Python program to print the first 8 terms of an arithmetic progression starting\n",
    "with 3 and having a common difference of 4.\n",
    "The program should output the following sequence:\n",
    "3 7 11 15 19 23 27 31 \n"
   ]
  },
  {
   "cell_type": "code",
   "execution_count": 27,
   "id": "b5f7ba05-aad1-404d-8168-11bf83cbfc1f",
   "metadata": {},
   "outputs": [
    {
     "name": "stdout",
     "output_type": "stream",
     "text": [
      "3\n",
      "7\n",
      "11\n",
      "15\n",
      "19\n",
      "23\n",
      "27\n",
      "31\n"
     ]
    }
   ],
   "source": [
    "n = 3\n",
    "print(n)\n",
    "for i in range(7):\n",
    "    n += 4\n",
    "    print(n)"
   ]
  },
  {
   "cell_type": "markdown",
   "id": "f71f7434-f5fe-4997-80e6-3d583c61a3da",
   "metadata": {},
   "source": [
    " Write a Python program to print the first 6 terms of a geometric sequence starting\n",
    "with 2 and having a common ratio of 3.\n",
    "The program should output the following sequence:\n",
    "2 6 18 54 162 486 \n"
   ]
  },
  {
   "cell_type": "code",
   "execution_count": 30,
   "id": "e64e89c2-67f9-46a9-93a7-6b31afa1942e",
   "metadata": {},
   "outputs": [
    {
     "name": "stdout",
     "output_type": "stream",
     "text": [
      "2\n",
      "6\n",
      "18\n",
      "54\n",
      "162\n",
      "486\n"
     ]
    }
   ],
   "source": [
    "n = 2\n",
    "print(n)\n",
    "for i in range(5):\n",
    "    n *= 3\n",
    "    print(n)"
   ]
  },
  {
   "cell_type": "markdown",
   "id": "a1b4224a-835c-4c58-856b-e3f17ae8c2d2",
   "metadata": {},
   "source": [
    " Write a program that asks the user for a positive integer value. The program should\n",
    "calculate the sum of all the integers from 1 up to the number entered. For example, if\n",
    "the user enters 20, the loop will find the sum of 1, 2, 3, 4, ... 20. "
   ]
  },
  {
   "cell_type": "code",
   "execution_count": 49,
   "id": "491b3347-de4e-4dc7-b357-7a43a7e21877",
   "metadata": {},
   "outputs": [
    {
     "name": "stdin",
     "output_type": "stream",
     "text": [
      "Enter number 6\n"
     ]
    },
    {
     "name": "stdout",
     "output_type": "stream",
     "text": [
      "21\n"
     ]
    }
   ],
   "source": [
    "n = int(input('Enter number'))\n",
    "na_sum = 0\n",
    "for i in range(1, n+1):\n",
    "    na_sum += i\n",
    "print(na_sum)"
   ]
  },
  {
   "cell_type": "markdown",
   "id": "88aca205-0c25-43a5-a59c-3e8661eb6cc3",
   "metadata": {},
   "source": [
    "write a program that takes a positive integer N as input and calculates the sum of\n",
    "the reciprocals of all numbers from 1 up to N. The program should display the final sum.\n",
    "Output of the program should be like:\n",
    "Enter a positive integer: 5\n",
    "The sum of reciprocals from 1 to 5 is: 2.28 "
   ]
  },
  {
   "cell_type": "code",
   "execution_count": 1,
   "id": "3f8ab3c9-744f-4281-8ddb-3289df5273b8",
   "metadata": {},
   "outputs": [
    {
     "name": "stdin",
     "output_type": "stream",
     "text": [
      "Enter positive integer 5\n"
     ]
    },
    {
     "name": "stdout",
     "output_type": "stream",
     "text": [
      "2.283333333333333\n"
     ]
    }
   ],
   "source": [
    "n = int(input('Enter positive integer'))\n",
    "n_sum = 0\n",
    "for i in range(1, n+1):\n",
    "    n_sum += 1/i\n",
    "print(n_sum)"
   ]
  },
  {
   "cell_type": "markdown",
   "id": "8b5cc878-bc6a-4289-8b01-aaa8309acf1d",
   "metadata": {},
   "source": [
    "Write a program that prompts the user to enter a number and repeats this process 5\n",
    "times. The program should accumulate the numbers entered and then display the final\n",
    "running total.\n",
    "Sample Output:\n",
    "Enter a number: 10\n",
    "Enter a number: 15\n",
    "Enter a number: 35\n",
    "Enter a number: 40\n",
    "Enter a number: 50\n",
    "The final running total is: 150 \n"
   ]
  },
  {
   "cell_type": "code",
   "execution_count": 2,
   "id": "f0c7b1f7-edd1-4342-990d-0809bac7ab4f",
   "metadata": {},
   "outputs": [
    {
     "name": "stdin",
     "output_type": "stream",
     "text": [
      "Enter a number 10\n",
      "Enter a number 15\n",
      "Enter a number 35\n",
      "Enter a number 40\n",
      "Enter a number 50\n"
     ]
    },
    {
     "name": "stdout",
     "output_type": "stream",
     "text": [
      "150\n"
     ]
    }
   ],
   "source": [
    "result = 0\n",
    "for _ in range(5):\n",
    "    n = int(input('Enter a number'))\n",
    "    result += n\n",
    "print(result)"
   ]
  },
  {
   "cell_type": "markdown",
   "id": "c238e060-30b4-4ba9-bfad-04406b588f01",
   "metadata": {},
   "source": [
    "Write a program that prompts the user to enter a positive integer and calculates its\n",
    "factorial. The factorial of a positive integer 'n' is denoted as 'n!' and is calculated by\n",
    "multiplying all the integers from 1 to 'n' together. For example, the factorial of 5\n",
    "(denoted as 5!) is calculated as 1 x 2 x 3 x 4 x 5.\n",
    "The program should display the factorial value if the input is a positive number, or\n",
    "display a message stating that the factorial does not exist for negative numbers.\n",
    "Additionally, for an input of zero, the program should output that the factorial of 0 is 1."
   ]
  },
  {
   "cell_type": "code",
   "execution_count": 8,
   "id": "d48016c7-e64c-4722-b123-8caf09da8de1",
   "metadata": {},
   "outputs": [
    {
     "name": "stdin",
     "output_type": "stream",
     "text": [
      "Input the positive number 0\n"
     ]
    },
    {
     "name": "stdout",
     "output_type": "stream",
     "text": [
      "The factorial of 0 is 1\n"
     ]
    }
   ],
   "source": [
    "n = int(input('Input the positive number'))\n",
    "result = 1\n",
    "if n != 0:\n",
    "    for i in range(1, n+1):\n",
    "        result *= i\n",
    "    print(f'The factorial of {n} is {result}')\n",
    "else:\n",
    "    print(f'The factorial of 0 is 1')"
   ]
  },
  {
   "cell_type": "markdown",
   "id": "a506018c-2954-433a-9129-d7af84a6d2e4",
   "metadata": {},
   "source": [
    "Write a Python program that prompts the user to enter a base number and an\n",
    "exponent, and then calculates the power of the base to the exponent. The program\n",
    "should not use the exponentiation operator (**) or the math.pow() function. The\n",
    "program should handle both positive and negative exponents. "
   ]
  },
  {
   "cell_type": "code",
   "execution_count": 17,
   "id": "796972be-93e3-4327-aece-f75efad008aa",
   "metadata": {},
   "outputs": [
    {
     "name": "stdin",
     "output_type": "stream",
     "text": [
      "Enter the base number 7\n",
      "Enter the exponent number 3\n"
     ]
    },
    {
     "name": "stdout",
     "output_type": "stream",
     "text": [
      "343\n"
     ]
    }
   ],
   "source": [
    "base = int(input('Enter the base number'))\n",
    "exp = int(input('Enter the exponent number'))\n",
    "result = 1\n",
    "for _ in range(exp):\n",
    "    result *= base\n",
    "print(result)"
   ]
  },
  {
   "cell_type": "code",
   "execution_count": null,
   "id": "0b25004c-3002-472d-9c74-0378ac73ca23",
   "metadata": {},
   "outputs": [],
   "source": []
  }
 ],
 "metadata": {
  "kernelspec": {
   "display_name": "Python 3 (ipykernel)",
   "language": "python",
   "name": "python3"
  },
  "language_info": {
   "codemirror_mode": {
    "name": "ipython",
    "version": 3
   },
   "file_extension": ".py",
   "mimetype": "text/x-python",
   "name": "python",
   "nbconvert_exporter": "python",
   "pygments_lexer": "ipython3",
   "version": "3.13.5"
  }
 },
 "nbformat": 4,
 "nbformat_minor": 5
}
