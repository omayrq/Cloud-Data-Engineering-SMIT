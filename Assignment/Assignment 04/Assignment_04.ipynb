{
 "cells": [
  {
   "cell_type": "markdown",
   "id": "0a9e6879-0b63-42c4-96c6-9e30a68a6e43",
   "metadata": {},
   "source": [
    "1. Write a program that accepts a list from user and print the alternate element of list. \n"
   ]
  },
  {
   "cell_type": "code",
   "execution_count": 5,
   "id": "1a6650bd-065a-40ad-8491-04bbe44fc2ff",
   "metadata": {},
   "outputs": [
    {
     "name": "stdout",
     "output_type": "stream",
     "text": [
      "[1, 3, 5]\n",
      "['a', 'c']\n"
     ]
    }
   ],
   "source": [
    "lis_t = [1, 2, 3, 4 , 5]\n",
    "lis_t1 = ['a', 'b', 'c', 'd']\n",
    "new_l = lis_t[0::2]\n",
    "new_2 = lis_t1[0::2]\n",
    "print(new_l)\n",
    "print(new_2)"
   ]
  },
  {
   "cell_type": "markdown",
   "id": "02e29167-f3b2-4465-ac21-83305f71fc91",
   "metadata": {},
   "source": [
    "2. Write a program that accepts a list from user. Your program should reverse the content of list and\n",
    "display it. Do not use reverse() method. "
   ]
  },
  {
   "cell_type": "code",
   "execution_count": 7,
   "id": "aa6eca8d-019b-4289-88ea-1f63d7c5edff",
   "metadata": {},
   "outputs": [
    {
     "name": "stdout",
     "output_type": "stream",
     "text": [
      "[5, 4, 3, 2, 1]\n"
     ]
    }
   ],
   "source": [
    "in_list = [1, 2, 3, 4, 5]\n",
    "new_in = in_list[::-1]\n",
    "print(new_in)"
   ]
  },
  {
   "cell_type": "markdown",
   "id": "19fdcb83-56cb-433e-a3eb-518b3e226dbf",
   "metadata": {},
   "source": [
    " 3. Find and display the largest number of a list without using built-in function max(). Your program\n",
    "should ask the user to input values in list from keyboard. \n"
   ]
  },
  {
   "cell_type": "code",
   "execution_count": 16,
   "id": "e3cd31a7-65d9-4027-8a96-106924803cff",
   "metadata": {},
   "outputs": [
    {
     "name": "stdout",
     "output_type": "stream",
     "text": [
      "5 is the largest number in the list\n"
     ]
    }
   ],
   "source": [
    "l_ist = [1, 2, 3, 4, 5]\n",
    "if not l_ist:\n",
    "    print('The list is empty')\n",
    "else:\n",
    "    curr = l_ist[0]\n",
    "    for i in range(len(l_ist)):\n",
    "        if l_ist[i] > curr:\n",
    "            curr = l_ist[i]\n",
    "    print(f'{curr} is the largest number in the list')\n"
   ]
  },
  {
   "cell_type": "markdown",
   "id": "84e693f4-9717-4089-b413-a9fa4cb1c35b",
   "metadata": {},
   "source": [
    " 4. Write a program that rotates the element of a list so that the element at the first index moves to the\n",
    "second index, the element in the second index moves to the third index, etc., and the element in the last\n",
    "index moves to the first index. "
   ]
  },
  {
   "cell_type": "code",
   "execution_count": 19,
   "id": "755c8fea-c5dc-4138-97bd-dcc4b3b8727a",
   "metadata": {},
   "outputs": [
    {
     "name": "stdout",
     "output_type": "stream",
     "text": [
      "[5, 1, 2, 3, 4]\n"
     ]
    }
   ],
   "source": [
    "li_st = [1, 2, 3, 4, 5]\n",
    "n_ew = [li_st[-1]] + li_st[:-1]\n",
    "print(n_ew)"
   ]
  },
  {
   "cell_type": "markdown",
   "id": "7f3aa805-1978-4d63-ac3a-1ee29f0e55f8",
   "metadata": {},
   "source": [
    "5. Write a program that input a string and ask user to delete a given word from a string. "
   ]
  },
  {
   "cell_type": "code",
   "execution_count": 41,
   "id": "86c23aaa-3fd5-4a26-a902-f356b282605a",
   "metadata": {},
   "outputs": [
    {
     "name": "stdin",
     "output_type": "stream",
     "text": [
      "Enter a sentence:  coding is fun\n",
      "Enter the word which you want to delete form the sentence:  coding\n"
     ]
    },
    {
     "name": "stdout",
     "output_type": "stream",
     "text": [
      "Sentence after deleting the word: is fun\n"
     ]
    }
   ],
   "source": [
    "str_a = input(\"Enter a sentence: \")\n",
    "str_d = input('Enter the word which you want to delete form the sentence: ')\n",
    "\n",
    "str_sp = str_a.split()\n",
    "    \n",
    "original_length = len(str_sp)\n",
    "    \n",
    "fil_tered = [word for word in str_sp if word != str_d]\n",
    "    \n",
    "joi_n = \" \".join(fil_tered)\n",
    "    \n",
    "if len(fil_tered) == original_length:\n",
    "    print(f\"Word '{str_d}' not found in the sentence\")\n",
    "else:\n",
    "    print(\"Sentence after deleting the word:\", joi_n)"
   ]
  },
  {
   "cell_type": "markdown",
   "id": "bcbce3ce-c4e0-4d7c-9006-9a2bfb98ce17",
   "metadata": {},
   "source": [
    " 6. Write a program that reads a string from the user containing a date in the form mm/dd/yyyy. It\n",
    "should print the date in the form March 12, 2021. \n"
   ]
  },
  {
   "cell_type": "code",
   "execution_count": 29,
   "id": "47b506a1-e187-432c-9a00-80f96be2e6c0",
   "metadata": {},
   "outputs": [
    {
     "name": "stdout",
     "output_type": "stream",
     "text": [
      "December 29, 2025.\n"
     ]
    }
   ],
   "source": [
    "date = '12/29/2025'\n",
    "list_months = ['January', 'February', 'March', 'April', 'May', 'June', 'July', 'August', 'September', 'October', 'November', 'December']\n",
    "month = int(date[:2])\n",
    "date_cur = date[3:5]\n",
    "year = date[6:]\n",
    "\n",
    "print(f'{list_months[month - 1]} {date_cur}, {year}.')\n"
   ]
  },
  {
   "cell_type": "markdown",
   "id": "9665f5d3-149d-43de-99ab-914053ee6d05",
   "metadata": {},
   "source": [
    " 7. Write a program with a function that accepts a string from keyboard and create a new string after\n",
    "converting character of each word capitalized. For instance, if the sentence is \"stop and smell the roses.\"\n",
    "the output should be \"Stop And Smell The Roses\" \n"
   ]
  },
  {
   "cell_type": "code",
   "execution_count": 44,
   "id": "b004aff0-4d68-41ff-bba7-c3ce5c545418",
   "metadata": {},
   "outputs": [
    {
     "name": "stdout",
     "output_type": "stream",
     "text": [
      "['stop', 'and', 'smell', 'the', 'roses.']\n",
      "Stop And Smell The Roses.\n"
     ]
    }
   ],
   "source": [
    "sentense = 'stop and smell the roses.'\n",
    "new_sentense = sentense.split(' ')\n",
    "print(new_sentense)\n",
    "new_list = []\n",
    "for word in new_sentense:\n",
    "    word = word[0].upper() + word[1:]\n",
    "    new_list.append(word)\n",
    "    update_list = \" \".join(new_list)\n",
    "print(update_list)"
   ]
  },
  {
   "cell_type": "markdown",
   "id": "f54b3d29-c4bf-439a-846c-a67bfd6da040",
   "metadata": {},
   "source": [
    "8. Find the sum of each row of matrix of size m x n. For example for the following matrix output will be\n",
    "like this :\n",
    "\n",
    "2 11  7  12\n",
    "5  2  9  15\n",
    "8  3 10  42\n",
    "\n",
    "Sum of row 1 = 32\n",
    "Sum of row 2 = 31\n",
    "Sum of row 3 = 63 \n"
   ]
  },
  {
   "cell_type": "code",
   "execution_count": 46,
   "id": "d9427da0-8870-4cf3-abe1-d03d820bcbd0",
   "metadata": {},
   "outputs": [
    {
     "name": "stdout",
     "output_type": "stream",
     "text": [
      "row: 1, sum: 32\n",
      "row: 2, sum: 31\n",
      "row: 3, sum: 63\n"
     ]
    }
   ],
   "source": [
    "matrix =[\n",
    "    [2, 11, 7, 12],\n",
    "    [5, 2, 9, 15],\n",
    "    [8, 3, 10, 42]\n",
    "]\n",
    "\n",
    "for i in range(len(matrix)):\n",
    "    sum_row = 0\n",
    "    for j in range(len(matrix[i])):\n",
    "        sum_row += matrix[i][j]\n",
    "    #sum_row = sum(matrix[i])\n",
    "    print(f'row: {i+1}, sum: {sum_row}')"
   ]
  },
  {
   "cell_type": "markdown",
   "id": "7d751454-157a-4876-9795-19e9a0c30ff9",
   "metadata": {},
   "source": [
    "9. Write a program to add two matrices of size n x m. "
   ]
  },
  {
   "cell_type": "code",
   "execution_count": 45,
   "id": "f27f6727-0201-44d5-bc29-4213626688cc",
   "metadata": {},
   "outputs": [
    {
     "name": "stdout",
     "output_type": "stream",
     "text": [
      "[[12, 12], [12, 12]]\n"
     ]
    }
   ],
   "source": [
    "matrix_a = [\n",
    "    [3, 4],\n",
    "    [5, 6]\n",
    "]\n",
    "matrix_b = [\n",
    "    [9, 8],\n",
    "    [7, 6]\n",
    "]\n",
    "row_a = len(matrix_a)\n",
    "col_a = len(matrix_a[0])\n",
    "\n",
    "matrix_result = [[0 for _ in range(col_a)] for _ in range(row_a)]\n",
    "\n",
    "for i in range(row_a): \n",
    "    for j in range(col_a):\n",
    "       matrix_result[i][j] +=  matrix_a[i][j] + matrix_b[i][j]\n",
    "print(matrix_result)"
   ]
  },
  {
   "cell_type": "markdown",
   "id": "e9c54204-7849-4675-ab57-4960e85896de",
   "metadata": {},
   "source": [
    "10. Write a program to multiply two matrices "
   ]
  },
  {
   "cell_type": "code",
   "execution_count": 48,
   "id": "fa9dcbdd-20eb-499d-8db5-0f021c413b58",
   "metadata": {},
   "outputs": [
    {
     "name": "stdout",
     "output_type": "stream",
     "text": [
      "[[19, 22], [43, 50]]\n"
     ]
    }
   ],
   "source": [
    "matrix_1 = [\n",
    "    [1, 2],\n",
    "    [3, 4]\n",
    "]\n",
    "matrix_2 = [\n",
    "    [5, 6],\n",
    "    [7, 8]\n",
    "]\n",
    "\n",
    "row1 = len(matrix_1)\n",
    "col1 = len(matrix_1[0])\n",
    "row2 = len(matrix_2)\n",
    "col2 = len(matrix_2[0])\n",
    "\n",
    "if col1 != row2:\n",
    "    raise ValueError('Matrix incompatible')\n",
    "\n",
    "result_matrix = [[0 for _ in range(col2)] for _ in range(row1)]\n",
    "\n",
    "for i in range(row1):\n",
    "    for j in range(col2):\n",
    "        for k in range(col1):\n",
    "            result_matrix[i][j] += matrix_1[i][k] * matrix_2[k][j]\n",
    "print(result_matrix)\n"
   ]
  },
  {
   "cell_type": "code",
   "execution_count": null,
   "id": "3eae6843-2cc6-4cd9-a7ca-a3be1c01d4ff",
   "metadata": {},
   "outputs": [],
   "source": []
  }
 ],
 "metadata": {
  "kernelspec": {
   "display_name": "Python 3 (ipykernel)",
   "language": "python",
   "name": "python3"
  },
  "language_info": {
   "codemirror_mode": {
    "name": "ipython",
    "version": 3
   },
   "file_extension": ".py",
   "mimetype": "text/x-python",
   "name": "python",
   "nbconvert_exporter": "python",
   "pygments_lexer": "ipython3",
   "version": "3.13.5"
  }
 },
 "nbformat": 4,
 "nbformat_minor": 5
}
