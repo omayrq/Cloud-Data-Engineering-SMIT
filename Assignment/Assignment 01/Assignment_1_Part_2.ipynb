{
 "cells": [
  {
   "cell_type": "code",
   "execution_count": 3,
   "id": "97e6ed0e-c90f-404b-b4f7-3a4507b0c10c",
   "metadata": {},
   "outputs": [
    {
     "name": "stdin",
     "output_type": "stream",
     "text": [
      "Please define your monthly salary : 50000\n",
      "Please mention your year of services in numbers : 5\n"
     ]
    },
    {
     "name": "stdout",
     "output_type": "stream",
     "text": [
      "150000.0\n"
     ]
    }
   ],
   "source": [
    "salary = int(input(\"Please define your monthly salary :\"))\n",
    "services = int(input(\"Please mention your year of services in numbers :\"))\n",
    "bonus = (salary * 0.05) * (services * 12)\n",
    "print(bonus)"
   ]
  },
  {
   "cell_type": "code",
   "execution_count": 5,
   "id": "ab31bc0f-0f16-477d-b21f-875a1a277e28",
   "metadata": {},
   "outputs": [
    {
     "name": "stdin",
     "output_type": "stream",
     "text": [
      "Please enter your age:  16\n"
     ]
    },
    {
     "name": "stdout",
     "output_type": "stream",
     "text": [
      "You are not eligible\n"
     ]
    }
   ],
   "source": [
    "age = int(input('Please enter your age: '))\n",
    "if age > 17:\n",
    "    print(f'You are elgible for voting, you age is {age}')\n",
    "else:\n",
    "    print('You are not eligible')"
   ]
  },
  {
   "cell_type": "code",
   "execution_count": 8,
   "id": "9ce813ee-2140-4770-86ff-12f832d9ac0d",
   "metadata": {},
   "outputs": [
    {
     "name": "stdin",
     "output_type": "stream",
     "text": [
      "Enter any number to check odd/even status :  10\n"
     ]
    },
    {
     "name": "stdout",
     "output_type": "stream",
     "text": [
      "num is even: 10\n"
     ]
    }
   ],
   "source": [
    "num = int(input('Enter any number to check odd/even status : '))\n",
    "if num%2:\n",
    "    print(f'num is odd: {num}')\n",
    "else:\n",
    "    print(f'num is even: {num}')"
   ]
  },
  {
   "cell_type": "code",
   "execution_count": 21,
   "id": "57435456-0b99-4236-a181-264aab1b4e1c",
   "metadata": {},
   "outputs": [
    {
     "name": "stdin",
     "output_type": "stream",
     "text": [
      "Enter number to check it is divisible by 7:  2\n"
     ]
    },
    {
     "name": "stdout",
     "output_type": "stream",
     "text": [
      "2 is not divisible by 7\n"
     ]
    }
   ],
   "source": [
    "value = int(input('Enter number to check it is divisible by 7: '))\n",
    "if value % 7 == 0:\n",
    "    print(f'{value} is divisible by 7')\n",
    "else:\n",
    "    print(f'{value} is not divisible by 7')"
   ]
  },
  {
   "cell_type": "code",
   "execution_count": 24,
   "id": "82517ed4-d9ff-4dc9-a5d1-49398172045b",
   "metadata": {},
   "outputs": [
    {
     "name": "stdin",
     "output_type": "stream",
     "text": [
      "Enter number to check it is divisible by 5:  2\n"
     ]
    },
    {
     "name": "stdout",
     "output_type": "stream",
     "text": [
      "Bye, 2 is not divisible by 5\n"
     ]
    }
   ],
   "source": [
    "value = int(input('Enter number to check it is divisible by 5: '))\n",
    "if value % 5 == 0:\n",
    "    print(f'Hello, {value} is divisible by 5')\n",
    "else:\n",
    "    print(f'Bye, {value} is not divisible by 5')"
   ]
  },
  {
   "cell_type": "code",
   "execution_count": 28,
   "id": "47413d07-b6ab-415a-b4bc-95837312ea8b",
   "metadata": {},
   "outputs": [
    {
     "name": "stdin",
     "output_type": "stream",
     "text": [
      "Enter number:  123\n"
     ]
    },
    {
     "name": "stdout",
     "output_type": "stream",
     "text": [
      "3\n"
     ]
    }
   ],
   "source": [
    "digit = input('Enter number: ')\n",
    "print(digit[-1])"
   ]
  },
  {
   "cell_type": "code",
   "execution_count": 31,
   "id": "373de6ba-e518-45ef-a720-fc4144781b77",
   "metadata": {},
   "outputs": [
    {
     "name": "stdin",
     "output_type": "stream",
     "text": [
      "Enter the length:  2\n",
      "Enter the breadth:  3\n"
     ]
    },
    {
     "name": "stdout",
     "output_type": "stream",
     "text": [
      "rectangular\n"
     ]
    }
   ],
   "source": [
    "length = int(input('Enter the length: '))\n",
    "breadth = int(input('Enter the breadth: '))\n",
    "if length == breadth:\n",
    "    print('Square')\n",
    "else:\n",
    "    print('rectangular')"
   ]
  },
  {
   "cell_type": "code",
   "execution_count": 33,
   "id": "4b29f197-24bf-4292-b5c1-a4afef1b4f05",
   "metadata": {},
   "outputs": [
    {
     "name": "stdin",
     "output_type": "stream",
     "text": [
      "Enter the value 1:  9\n",
      "Enter the value 2:  100\n"
     ]
    },
    {
     "name": "stdout",
     "output_type": "stream",
     "text": [
      "100\n"
     ]
    }
   ],
   "source": [
    "val_1 = int(input('Enter the value 1: '))\n",
    "val_2 = int(input('Enter the value 2: '))\n",
    "if val_1 > val_2:\n",
    "    print(val_1)\n",
    "else:\n",
    "    print(val_2)\n"
   ]
  },
  {
   "cell_type": "code",
   "execution_count": 41,
   "id": "3704bd56-46b5-4e62-bc19-8a5f339e9182",
   "metadata": {},
   "outputs": [
    {
     "name": "stdin",
     "output_type": "stream",
     "text": [
      "Enter the purchase quantity:  11\n"
     ]
    },
    {
     "name": "stdout",
     "output_type": "stream",
     "text": [
      "1100\n",
      "990.0\n"
     ]
    }
   ],
   "source": [
    "qty = int(input('Enter the purchase quantity: '))\n",
    "sum_qty = qty * 100\n",
    "print(sum_qty)\n",
    "if sum_qty > 1000:\n",
    "    total = sum_qty - (sum_qty * 0.10)\n",
    "    print(total)\n",
    "    "
   ]
  },
  {
   "cell_type": "code",
   "execution_count": 45,
   "id": "aab92ed0-0c1b-4e7c-b399-55e0c5d0b197",
   "metadata": {},
   "outputs": [
    {
     "name": "stdin",
     "output_type": "stream",
     "text": [
      "enter marks:  56\n"
     ]
    },
    {
     "name": "stdout",
     "output_type": "stream",
     "text": [
      "Your grade is \"C\" with this numbers : 56\n"
     ]
    }
   ],
   "source": [
    "marks = int(input('enter marks: '))\n",
    "if marks < 25:\n",
    "    print(f'Your grade is \"F\" with this numbers : {marks}')\n",
    "elif marks < 45:\n",
    "    print(f'Your grade is \"E\" with this numbers : {marks}')\n",
    "elif marks < 50:\n",
    "    print(f'Your grade is \"D\" with this numbers : {marks}')\n",
    "elif marks < 60:\n",
    "    print(f'Your grade is \"C\" with this numbers : {marks}')\n",
    "elif marks < 80:\n",
    "    print(f'Your grade is \"B\" with this numbers : {marks}')\n",
    "elif marks > 80:\n",
    "    print(f'Your grade is \"A\" with this numbers : {marks}')"
   ]
  },
  {
   "cell_type": "code",
   "execution_count": 2,
   "id": "d9174bdf-25c8-44ba-ad48-4911330e95cc",
   "metadata": {},
   "outputs": [
    {
     "name": "stdin",
     "output_type": "stream",
     "text": [
      "Enter total attended classes number:  20\n"
     ]
    },
    {
     "name": "stdout",
     "output_type": "stream",
     "text": [
      "Percentage of attended: 40.0, Not Allowed\n"
     ]
    }
   ],
   "source": [
    "classes = int(input('Enter total attended classes number: '))\n",
    "total_classes = 50\n",
    "per_class = classes/total_classes * 100\n",
    "if per_class > 75:\n",
    "    print(f'Percentage of attended: {per_class}, Allowed')\n",
    "else:\n",
    "    print(f'Percentage of attended: {per_class}, Not Allowed')"
   ]
  },
  {
   "cell_type": "code",
   "execution_count": 9,
   "id": "45a4fccc-3302-41a6-83a9-78ca601865d0",
   "metadata": {},
   "outputs": [
    {
     "name": "stdin",
     "output_type": "stream",
     "text": [
      "You have any medical cause: Y OR N: N\n"
     ]
    },
    {
     "name": "stdout",
     "output_type": "stream",
     "text": [
      "You are not allowed to sit in class\n"
     ]
    }
   ],
   "source": [
    "status = input('You have any medical cause: Y OR N:')\n",
    "if status == \"Y\":\n",
    "    print('You are allowed to sit in class')\n",
    "else: \n",
    "    print('You are not allowed to sit in class')"
   ]
  },
  {
   "cell_type": "code",
   "execution_count": 9,
   "id": "74e1bca0-9ed8-4d6f-b44e-3eff18d4d0a8",
   "metadata": {},
   "outputs": [
    {
     "name": "stdin",
     "output_type": "stream",
     "text": [
      "Please enter the year:  4\n"
     ]
    },
    {
     "name": "stdout",
     "output_type": "stream",
     "text": [
      "4, This is leap year\n"
     ]
    }
   ],
   "source": [
    "leap_year = int(input('Please enter the year: '))\n",
    "if (leap_year % 4 == 0 and leap_year % 100 != 0) or (leap_year % 400 == 0):\n",
    "    print(f'{leap_year}, This is leap year')\n",
    "else:\n",
    "    print(f'{leap_year}. This is not a leap year')\n",
    "    "
   ]
  },
  {
   "cell_type": "code",
   "execution_count": 16,
   "id": "75428228-db84-4671-95ba-e3ce8f430085",
   "metadata": {},
   "outputs": [
    {
     "name": "stdin",
     "output_type": "stream",
     "text": [
      "Please enter your age? 65\n",
      "Enter gender Male or female (M/F)? F\n",
      "Enter material status (Y/N)? Y\n"
     ]
    },
    {
     "name": "stdout",
     "output_type": "stream",
     "text": [
      "Error\n"
     ]
    }
   ],
   "source": [
    "age = int(input('Please enter your age?'))\n",
    "gender = input('Enter gender Male or female (M/F)?')\n",
    "m_status = input('Enter material status (Y/N)?')\n",
    "if age < 20 or age > 60: \n",
    "    print('Error')\n",
    "elif gender == 'F':\n",
    "    print('Work in urban area only')\n",
    "elif gender == 'M' and age < 40:\n",
    "    print('Work anywhere')\n",
    "elif gender == 'M' and age > 40:\n",
    "    print('Work in urban areas only')\n",
    "        "
   ]
  },
  {
   "cell_type": "code",
   "execution_count": 23,
   "id": "848a2c8f-e59d-4aaf-aa33-f4facf538b1d",
   "metadata": {},
   "outputs": [
    {
     "name": "stdin",
     "output_type": "stream",
     "text": [
      "Please enter number unit consumable:  220\n"
     ]
    },
    {
     "name": "stdout",
     "output_type": "stream",
     "text": [
      "Your electric bill charges is Rs 2200\n"
     ]
    }
   ],
   "source": [
    "e_unit = int(input('Please enter number unit consumable: '))\n",
    "if e_unit < 100:\n",
    "    print('No charges')\n",
    "if e_unit < 200: \n",
    "    print(f'Your electric bill charges is Rs {e_unit * 5}')\n",
    "elif e_unit > 200:\n",
    "    print(f'Your electric bill charges is Rs {e_unit * 10}')"
   ]
  },
  {
   "cell_type": "code",
   "execution_count": 27,
   "id": "90caf1d8-b066-4d4f-8c9b-f5256f876b35",
   "metadata": {},
   "outputs": [
    {
     "name": "stdin",
     "output_type": "stream",
     "text": [
      "Please enter you age 1 ? 10\n",
      "Please enter you age 2 ? 20\n",
      "Please enter you age 3 ? 30\n"
     ]
    },
    {
     "name": "stdout",
     "output_type": "stream",
     "text": [
      "30 age is elder amoung\n",
      "10 age is younger then amoung\n"
     ]
    }
   ],
   "source": [
    "age_1 = int(input('Please enter you age 1 ?'))\n",
    "age_2 = int(input('Please enter you age 2 ?'))\n",
    "age_3 = int(input('Please enter you age 3 ?'))\n",
    "if age_1 > age_2 and age_1 > age_3:\n",
    "    elder = age_1\n",
    "elif age_2 > age_1 and age_2 > age_3:\n",
    "    elder = age_2\n",
    "else:\n",
    "    elder = age_3\n",
    "    \n",
    "if age_1 < age_2 and age_1 < age_3:\n",
    "    younger = age_1\n",
    "elif age_2 < age_1 and age_2 < age_3:\n",
    "    younger = age_2\n",
    "else:\n",
    "    younger = age_3\n",
    "    \n",
    "print(f'{elder} age is elder amoung')\n",
    "print(f'{younger} age is younger then amoung')"
   ]
  },
  {
   "cell_type": "code",
   "execution_count": null,
   "id": "60c22b5e-827f-435c-8439-a08d4b09c13a",
   "metadata": {},
   "outputs": [],
   "source": []
  }
 ],
 "metadata": {
  "kernelspec": {
   "display_name": "Python 3 (ipykernel)",
   "language": "python",
   "name": "python3"
  },
  "language_info": {
   "codemirror_mode": {
    "name": "ipython",
    "version": 3
   },
   "file_extension": ".py",
   "mimetype": "text/x-python",
   "name": "python",
   "nbconvert_exporter": "python",
   "pygments_lexer": "ipython3",
   "version": "3.13.5"
  }
 },
 "nbformat": 4,
 "nbformat_minor": 5
}
